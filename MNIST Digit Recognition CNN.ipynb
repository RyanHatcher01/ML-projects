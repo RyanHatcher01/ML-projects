{
 "cells": [
  {
   "cell_type": "code",
   "execution_count": 1,
   "id": "c59378ff",
   "metadata": {},
   "outputs": [],
   "source": [
    "import tensorflow as tf\n",
    "from tensorflow import keras\n",
    "from tensorflow.keras import datasets, layers, models\n",
    "import numpy as np\n",
    "import matplotlib.pyplot as plt\n",
    "import keras.utils\n"
   ]
  },
  {
   "cell_type": "code",
   "execution_count": 2,
   "id": "1936843b",
   "metadata": {},
   "outputs": [],
   "source": [
    "data = tf.keras.datasets.mnist\n"
   ]
  },
  {
   "cell_type": "markdown",
   "id": "324fb181",
   "metadata": {},
   "source": [
    "After we import the dataset using keras, we must split the data into both training and testing data "
   ]
  },
  {
   "cell_type": "code",
   "execution_count": 3,
   "id": "3a001eef",
   "metadata": {},
   "outputs": [],
   "source": [
    "(trainingimage,traininglabel), (testingimage, testinglabel) = data.load_data()    "
   ]
  },
  {
   "cell_type": "code",
   "execution_count": 4,
   "id": "aeaff2f7",
   "metadata": {},
   "outputs": [
    {
     "name": "stdout",
     "output_type": "stream",
     "text": [
      "[0. 0. 0. 0. 0. 0. 0. 1. 0. 0.]\n"
     ]
    }
   ],
   "source": [
    "assert trainingimage.shape == (60000, 28, 28)\n",
    "assert testingimage.shape == (10000, 28, 28)\n",
    "assert traininglabel.shape == (60000,)\n",
    "assert testinglabel.shape == (10000,)\n",
    "\n",
    "traininglabel = keras.utils.to_categorical(traininglabel)\n",
    "testinglabel = keras.utils.to_categorical(testinglabel)\n",
    "print(testinglabel[0])"
   ]
  },
  {
   "cell_type": "markdown",
   "id": "d7dc83cf",
   "metadata": {},
   "source": [
    "Our data is greyscale pixels ranging in value from 0-255. We will normalize this data between 0 and 1. To do this, we can follow the normalization formula of (x-min)/(max-min). In our case, this will be x-0/255-0. So we can just divide the values in the training image by 255."
   ]
  },
  {
   "cell_type": "code",
   "execution_count": 5,
   "id": "b23a5e27",
   "metadata": {},
   "outputs": [],
   "source": [
    "trainingimage=trainingimage/255.0\n",
    "testingimage=testingimage/255.0"
   ]
  },
  {
   "cell_type": "markdown",
   "id": "c41a7a23",
   "metadata": {},
   "source": [
    "Now, we can build our model with an input shape of 28,28 because that is how many pixels we are working with."
   ]
  },
  {
   "cell_type": "code",
   "execution_count": 6,
   "id": "327bcc5d",
   "metadata": {},
   "outputs": [],
   "source": [
    "model= models.Sequential()\n",
    "model.add(layers.Conv2D(32, (3,3),activation='relu',input_shape=(28,28,1)))\n",
    "model.add(layers.MaxPooling2D((2,2),padding='valid'))\n",
    "model.add(layers.Flatten())\n",
    "model.add(layers.Dense(64, activation='relu'))\n",
    "model.add(layers.Dense(10, activation='softmax'))\n"
   ]
  },
  {
   "cell_type": "markdown",
   "id": "04b6d62b",
   "metadata": {},
   "source": [
    "Now, we must compile our model. For our purposes, we can use a pretty general optimizer and loss function"
   ]
  },
  {
   "cell_type": "code",
   "execution_count": 7,
   "id": "9cb7ac3f",
   "metadata": {},
   "outputs": [],
   "source": [
    "model.compile(optimizer='adam',\n",
    "              loss='categorical_crossentropy',\n",
    "              metrics=['accuracy'])"
   ]
  },
  {
   "cell_type": "markdown",
   "id": "1995b5dd",
   "metadata": {},
   "source": [
    "Once compiled, we can fit our model to our training data "
   ]
  },
  {
   "cell_type": "code",
   "execution_count": 8,
   "id": "c50e4b88",
   "metadata": {},
   "outputs": [
    {
     "name": "stdout",
     "output_type": "stream",
     "text": [
      "Epoch 1/5\n",
      "1875/1875 [==============================] - 18s 9ms/step - loss: 0.1631 - accuracy: 0.9514\n",
      "Epoch 2/5\n",
      "1875/1875 [==============================] - 17s 9ms/step - loss: 0.0597 - accuracy: 0.9822\n",
      "Epoch 3/5\n",
      "1875/1875 [==============================] - 18s 10ms/step - loss: 0.0406 - accuracy: 0.9873\n",
      "Epoch 4/5\n",
      "1875/1875 [==============================] - 18s 9ms/step - loss: 0.0287 - accuracy: 0.9909\n",
      "Epoch 5/5\n",
      "1875/1875 [==============================] - 17s 9ms/step - loss: 0.0206 - accuracy: 0.9932\n"
     ]
    },
    {
     "data": {
      "text/plain": [
       "<keras.callbacks.History at 0x2266f91afa0>"
      ]
     },
     "execution_count": 8,
     "metadata": {},
     "output_type": "execute_result"
    }
   ],
   "source": [
    "model.fit(trainingimage, traininglabel, epochs=5)"
   ]
  },
  {
   "cell_type": "markdown",
   "id": "9e630d3d",
   "metadata": {},
   "source": [
    "We can get the predictions of our testing image"
   ]
  },
  {
   "cell_type": "code",
   "execution_count": 9,
   "id": "a882eb2b",
   "metadata": {},
   "outputs": [
    {
     "name": "stdout",
     "output_type": "stream",
     "text": [
      "313/313 [==============================] - 1s 3ms/step\n"
     ]
    }
   ],
   "source": [
    "predictions=model.predict(testingimage)"
   ]
  },
  {
   "cell_type": "markdown",
   "id": "4160b66d",
   "metadata": {},
   "source": [
    "Finally, we can get the accuracy of the model using the testing data. Our model is very good as it is 98% accurate"
   ]
  },
  {
   "cell_type": "code",
   "execution_count": 10,
   "id": "f071c794",
   "metadata": {},
   "outputs": [
    {
     "name": "stdout",
     "output_type": "stream",
     "text": [
      "313/313 [==============================] - 1s 3ms/step - loss: 0.0499 - accuracy: 0.9848\n"
     ]
    }
   ],
   "source": [
    "accuracy = model.evaluate(testingimage, testinglabel,verbose=1)"
   ]
  },
  {
   "cell_type": "markdown",
   "id": "2cfc56ed",
   "metadata": {},
   "source": []
  },
  {
   "cell_type": "code",
   "execution_count": null,
   "id": "32748edd",
   "metadata": {},
   "outputs": [],
   "source": []
  },
  {
   "cell_type": "code",
   "execution_count": null,
   "id": "e631d930",
   "metadata": {},
   "outputs": [],
   "source": []
  }
 ],
 "metadata": {
  "kernelspec": {
   "display_name": "Python 3 (ipykernel)",
   "language": "python",
   "name": "python3"
  },
  "language_info": {
   "codemirror_mode": {
    "name": "ipython",
    "version": 3
   },
   "file_extension": ".py",
   "mimetype": "text/x-python",
   "name": "python",
   "nbconvert_exporter": "python",
   "pygments_lexer": "ipython3",
   "version": "3.9.7"
  }
 },
 "nbformat": 4,
 "nbformat_minor": 5
}
