{
 "cells": [
  {
   "cell_type": "raw",
   "id": "aff05fa2",
   "metadata": {},
   "source": [
    "Classification Project to determine whether a Pima Indian woman will develop diabetes"
   ]
  },
  {
   "cell_type": "markdown",
   "id": "86a5e0d8",
   "metadata": {},
   "source": [
    "First, we will import the librares that we need"
   ]
  },
  {
   "cell_type": "code",
   "execution_count": 1,
   "id": "84117e16",
   "metadata": {},
   "outputs": [],
   "source": [
    "import pandas as pd\n",
    "import numpy as np\n",
    "from sklearn.model_selection import train_test_split\n",
    "from sklearn.neighbors import KNeighborsClassifier\n",
    "from sklearn import metrics\n",
    "from sklearn.model_selection import KFold, cross_val_score, GridSearchCV\n",
    "from sklearn.linear_model import RidgeClassifier\n",
    "import matplotlib.pyplot as plt"
   ]
  },
  {
   "cell_type": "markdown",
   "id": "e79c5af2",
   "metadata": {},
   "source": [
    "Now, we will import the dataframe "
   ]
  },
  {
   "cell_type": "code",
   "execution_count": 2,
   "id": "b87e425e",
   "metadata": {},
   "outputs": [
    {
     "data": {
      "text/html": [
       "<div>\n",
       "<style scoped>\n",
       "    .dataframe tbody tr th:only-of-type {\n",
       "        vertical-align: middle;\n",
       "    }\n",
       "\n",
       "    .dataframe tbody tr th {\n",
       "        vertical-align: top;\n",
       "    }\n",
       "\n",
       "    .dataframe thead th {\n",
       "        text-align: right;\n",
       "    }\n",
       "</style>\n",
       "<table border=\"1\" class=\"dataframe\">\n",
       "  <thead>\n",
       "    <tr style=\"text-align: right;\">\n",
       "      <th></th>\n",
       "      <th>Pregnancies</th>\n",
       "      <th>Plasma Glucose Concentration</th>\n",
       "      <th>Diastolic blood pressure</th>\n",
       "      <th>Triceps skinfold thickness</th>\n",
       "      <th>serum insulin</th>\n",
       "      <th>BMI</th>\n",
       "      <th>Diabetes pedigree function</th>\n",
       "      <th>Age</th>\n",
       "      <th>Class Variable</th>\n",
       "    </tr>\n",
       "  </thead>\n",
       "  <tbody>\n",
       "    <tr>\n",
       "      <th>0</th>\n",
       "      <td>6</td>\n",
       "      <td>148</td>\n",
       "      <td>72</td>\n",
       "      <td>35</td>\n",
       "      <td>0</td>\n",
       "      <td>33.6</td>\n",
       "      <td>0.627</td>\n",
       "      <td>50</td>\n",
       "      <td>1</td>\n",
       "    </tr>\n",
       "    <tr>\n",
       "      <th>1</th>\n",
       "      <td>1</td>\n",
       "      <td>85</td>\n",
       "      <td>66</td>\n",
       "      <td>29</td>\n",
       "      <td>0</td>\n",
       "      <td>26.6</td>\n",
       "      <td>0.351</td>\n",
       "      <td>31</td>\n",
       "      <td>0</td>\n",
       "    </tr>\n",
       "    <tr>\n",
       "      <th>2</th>\n",
       "      <td>8</td>\n",
       "      <td>183</td>\n",
       "      <td>64</td>\n",
       "      <td>0</td>\n",
       "      <td>0</td>\n",
       "      <td>23.3</td>\n",
       "      <td>0.672</td>\n",
       "      <td>32</td>\n",
       "      <td>1</td>\n",
       "    </tr>\n",
       "    <tr>\n",
       "      <th>3</th>\n",
       "      <td>1</td>\n",
       "      <td>89</td>\n",
       "      <td>66</td>\n",
       "      <td>23</td>\n",
       "      <td>94</td>\n",
       "      <td>28.1</td>\n",
       "      <td>0.167</td>\n",
       "      <td>21</td>\n",
       "      <td>0</td>\n",
       "    </tr>\n",
       "    <tr>\n",
       "      <th>4</th>\n",
       "      <td>0</td>\n",
       "      <td>137</td>\n",
       "      <td>40</td>\n",
       "      <td>35</td>\n",
       "      <td>168</td>\n",
       "      <td>43.1</td>\n",
       "      <td>2.288</td>\n",
       "      <td>33</td>\n",
       "      <td>1</td>\n",
       "    </tr>\n",
       "    <tr>\n",
       "      <th>...</th>\n",
       "      <td>...</td>\n",
       "      <td>...</td>\n",
       "      <td>...</td>\n",
       "      <td>...</td>\n",
       "      <td>...</td>\n",
       "      <td>...</td>\n",
       "      <td>...</td>\n",
       "      <td>...</td>\n",
       "      <td>...</td>\n",
       "    </tr>\n",
       "    <tr>\n",
       "      <th>763</th>\n",
       "      <td>10</td>\n",
       "      <td>101</td>\n",
       "      <td>76</td>\n",
       "      <td>48</td>\n",
       "      <td>180</td>\n",
       "      <td>32.9</td>\n",
       "      <td>0.171</td>\n",
       "      <td>63</td>\n",
       "      <td>0</td>\n",
       "    </tr>\n",
       "    <tr>\n",
       "      <th>764</th>\n",
       "      <td>2</td>\n",
       "      <td>122</td>\n",
       "      <td>70</td>\n",
       "      <td>27</td>\n",
       "      <td>0</td>\n",
       "      <td>36.8</td>\n",
       "      <td>0.340</td>\n",
       "      <td>27</td>\n",
       "      <td>0</td>\n",
       "    </tr>\n",
       "    <tr>\n",
       "      <th>765</th>\n",
       "      <td>5</td>\n",
       "      <td>121</td>\n",
       "      <td>72</td>\n",
       "      <td>23</td>\n",
       "      <td>112</td>\n",
       "      <td>26.2</td>\n",
       "      <td>0.245</td>\n",
       "      <td>30</td>\n",
       "      <td>0</td>\n",
       "    </tr>\n",
       "    <tr>\n",
       "      <th>766</th>\n",
       "      <td>1</td>\n",
       "      <td>126</td>\n",
       "      <td>60</td>\n",
       "      <td>0</td>\n",
       "      <td>0</td>\n",
       "      <td>30.1</td>\n",
       "      <td>0.349</td>\n",
       "      <td>47</td>\n",
       "      <td>1</td>\n",
       "    </tr>\n",
       "    <tr>\n",
       "      <th>767</th>\n",
       "      <td>1</td>\n",
       "      <td>93</td>\n",
       "      <td>70</td>\n",
       "      <td>31</td>\n",
       "      <td>0</td>\n",
       "      <td>30.4</td>\n",
       "      <td>0.315</td>\n",
       "      <td>23</td>\n",
       "      <td>0</td>\n",
       "    </tr>\n",
       "  </tbody>\n",
       "</table>\n",
       "<p>768 rows × 9 columns</p>\n",
       "</div>"
      ],
      "text/plain": [
       "     Pregnancies  Plasma Glucose Concentration  Diastolic blood pressure  \\\n",
       "0              6                           148                        72   \n",
       "1              1                            85                        66   \n",
       "2              8                           183                        64   \n",
       "3              1                            89                        66   \n",
       "4              0                           137                        40   \n",
       "..           ...                           ...                       ...   \n",
       "763           10                           101                        76   \n",
       "764            2                           122                        70   \n",
       "765            5                           121                        72   \n",
       "766            1                           126                        60   \n",
       "767            1                            93                        70   \n",
       "\n",
       "     Triceps skinfold thickness  serum insulin   BMI  \\\n",
       "0                            35              0  33.6   \n",
       "1                            29              0  26.6   \n",
       "2                             0              0  23.3   \n",
       "3                            23             94  28.1   \n",
       "4                            35            168  43.1   \n",
       "..                          ...            ...   ...   \n",
       "763                          48            180  32.9   \n",
       "764                          27              0  36.8   \n",
       "765                          23            112  26.2   \n",
       "766                           0              0  30.1   \n",
       "767                          31              0  30.4   \n",
       "\n",
       "     Diabetes pedigree function  Age  Class Variable  \n",
       "0                         0.627   50               1  \n",
       "1                         0.351   31               0  \n",
       "2                         0.672   32               1  \n",
       "3                         0.167   21               0  \n",
       "4                         2.288   33               1  \n",
       "..                          ...  ...             ...  \n",
       "763                       0.171   63               0  \n",
       "764                       0.340   27               0  \n",
       "765                       0.245   30               0  \n",
       "766                       0.349   47               1  \n",
       "767                       0.315   23               0  \n",
       "\n",
       "[768 rows x 9 columns]"
      ]
     },
     "execution_count": 2,
     "metadata": {},
     "output_type": "execute_result"
    }
   ],
   "source": [
    "df = pd.read_csv('pima-indians-diabetes.csv')\n",
    "df"
   ]
  },
  {
   "cell_type": "markdown",
   "id": "3b42b038",
   "metadata": {},
   "source": [
    "To train the model with our data, we must split the data into 2 parts. Training data and Testing data. Next, we will use cross validation to determine the best model and train the data. I will use 10 folds, meaning that 1/10 of the data will be taken as test data. This leaves 9/10 of the data for training the model."
   ]
  },
  {
   "cell_type": "code",
   "execution_count": 3,
   "id": "b2118513",
   "metadata": {},
   "outputs": [
    {
     "name": "stdout",
     "output_type": "stream",
     "text": [
      "0      1\n",
      "1      0\n",
      "2      1\n",
      "3      0\n",
      "4      1\n",
      "      ..\n",
      "763    0\n",
      "764    0\n",
      "765    0\n",
      "766    1\n",
      "767    0\n",
      "Name: Class Variable, Length: 768, dtype: int64\n"
     ]
    }
   ],
   "source": [
    "xtrain = df.drop(['Class Variable'],axis=1)\n",
    "ytrain = df['Class Variable']\n",
    "print(ytrain)\n",
    "cv = KFold(n_splits=10)\n"
   ]
  },
  {
   "cell_type": "markdown",
   "id": "22ae7f07",
   "metadata": {},
   "source": [
    "Now, we can use different methods of classification through sci kit learn to create models"
   ]
  },
  {
   "cell_type": "markdown",
   "id": "18946df3",
   "metadata": {},
   "source": [
    "First, we will use K-nearest neighbour classifier"
   ]
  },
  {
   "cell_type": "code",
   "execution_count": 4,
   "id": "75ce6583",
   "metadata": {},
   "outputs": [],
   "source": [
    "knn = KNeighborsClassifier()\n"
   ]
  },
  {
   "cell_type": "markdown",
   "id": "0fc98378",
   "metadata": {},
   "source": [
    "The KNN classifier has many parameters that can alter the accuracy of a model. Therefore, we will test the model using a few values for each parameter in an attempt to create an accurate model. However, we must be careful of overfitting the data. This means we will not use 1-nearest neighbour, or other parameters that will cause overfitting"
   ]
  },
  {
   "cell_type": "code",
   "execution_count": 5,
   "id": "e9396547",
   "metadata": {},
   "outputs": [
    {
     "name": "stdout",
     "output_type": "stream",
     "text": [
      "{'metric': 'manhattan', 'n_neighbors': 15}\n",
      "0.76 accuracy with a standard deviation of 0.06\n",
      "Test Accuracy for the KNN classifier model is: 0.7617224880382775\n"
     ]
    }
   ],
   "source": [
    "param_grid = {'n_neighbors':[3,5,10,15,20],'metric': ['euclidean','manhattan','minkowski']}\n",
    "\n",
    "params=GridSearchCV(knn,param_grid=param_grid,cv=cv,scoring='accuracy')\n",
    "\n",
    "params.fit(xtrain,ytrain)\n",
    "\n",
    "scores=cross_val_score(params,xtrain,ytrain,cv=cv)\n",
    "print(params.best_params_)\n",
    "print(\"%0.2f accuracy with a standard deviation of %0.2f\" % (scores.mean(), scores.std()))\n",
    "print('Test Accuracy for the KNN classifier model is: '+ str(params.best_score_))"
   ]
  },
  {
   "cell_type": "markdown",
   "id": "0128bc2b",
   "metadata": {},
   "source": [
    "GridSearchCV says that our best parameters for the most accurate model is k=15, and using manhattan to measure the distance"
   ]
  },
  {
   "cell_type": "markdown",
   "id": "6c7eb12f",
   "metadata": {},
   "source": [
    "We are also given the test accuracy of our model, which is 76%. This is pretty good for the pima indian dataset. Now, we can test for overfitting by getting the accuracy of the model on the training data only. If the accuracy is almost identical, we know that the model is overfitted "
   ]
  },
  {
   "cell_type": "code",
   "execution_count": 6,
   "id": "05217c92",
   "metadata": {},
   "outputs": [
    {
     "name": "stdout",
     "output_type": "stream",
     "text": [
      "Train accuracy 0.78515625\n"
     ]
    }
   ],
   "source": [
    "knnBP = KNeighborsClassifier(n_neighbors=15,metric='manhattan')\n",
    "knnBP.fit(xtrain,ytrain)\n",
    "predictions=knnBP.predict(xtrain)\n",
    "print(\"Train accuracy\",metrics.accuracy_score(predictions,ytrain))"
   ]
  },
  {
   "cell_type": "markdown",
   "id": "d6105267",
   "metadata": {},
   "source": [
    "Now we will use Ridge Classifier as a classification model"
   ]
  },
  {
   "cell_type": "code",
   "execution_count": 7,
   "id": "58cb8140",
   "metadata": {},
   "outputs": [],
   "source": [
    "Ridge = RidgeClassifier()\n",
    "\n"
   ]
  },
  {
   "cell_type": "markdown",
   "id": "c0a5cb11",
   "metadata": {},
   "source": [
    "Ridge Classification has a parameter Alpha that we can hypertune. Once again, we can use GridSearch"
   ]
  },
  {
   "cell_type": "code",
   "execution_count": 8,
   "id": "b79296fb",
   "metadata": {},
   "outputs": [
    {
     "name": "stdout",
     "output_type": "stream",
     "text": [
      "0.77 accuracy with a standard deviation of 0.05\n",
      "Test Accuracy for the ridge classifier model is: 0.7708646616541354\n",
      "Best parameter for the ridge regression model is: {'alpha': 1e-10}\n"
     ]
    }
   ],
   "source": [
    "alphas = {'alpha':[1e-10,1e-8,1e-3,1e-2,1,5,10,20,25]}\n",
    "RidgeParams= GridSearchCV(Ridge, param_grid=alphas,cv = cv, scoring = 'accuracy')\n",
    "RidgeParams.fit(xtrain,ytrain)\n",
    "RidgeScores=cross_val_score(Ridge, xtrain, ytrain, cv=cv)\n",
    "\n",
    "print(\"%0.2f accuracy with a standard deviation of %0.2f\" % (RidgeScores.mean(), RidgeScores.std()))\n",
    "print('Test Accuracy for the ridge classifier model is: '+ str(RidgeParams.best_score_))\n",
    "print('Best parameter for the ridge regression model is: '+ str(RidgeParams.best_params_))\n"
   ]
  },
  {
   "cell_type": "markdown",
   "id": "5f8ed0ca",
   "metadata": {},
   "source": [
    "Now, We can visualize our models by plotting their ROC curve"
   ]
  },
  {
   "cell_type": "code",
   "execution_count": 9,
   "id": "2bc7d121",
   "metadata": {
    "scrolled": true
   },
   "outputs": [
    {
     "data": {
      "text/plain": [
       "<sklearn.metrics._plot.roc_curve.RocCurveDisplay at 0x186df82ae80>"
      ]
     },
     "execution_count": 9,
     "metadata": {},
     "output_type": "execute_result"
    },
    {
     "data": {
      "image/png": "[encoded data removed]",
      "text/plain": [
       "<Figure size 640x480 with 1 Axes>"
      ]
     },
     "metadata": {},
     "output_type": "display_data"
    }
   ],
   "source": [
    "xtrain2, xtest, ytrain2, ytest = train_test_split(xtrain, ytrain, test_size=0.2)\n",
    "KNNClassifier = KNeighborsClassifier(n_neighbors=15,metric='manhattan')\n",
    "KNNClassifier.fit(xtrain2,ytrain2)\n",
    "KNNPredictions = KNNClassifier.predict(xtest)\n",
    "metrics.RocCurveDisplay.from_predictions(ytest,KNNPredictions,name=\"KNN Classifier\",ax=plt.gca())\n",
    "\n",
    "RidgeClassifier = RidgeClassifier(alpha=1e-10)\n",
    "RidgeClassifier.fit(xtrain2,ytrain2)\n",
    "RidgePredictions = RidgeClassifier.predict(xtest)\n",
    "metrics.RocCurveDisplay.from_predictions(ytest,RidgePredictions,name=\"Ridge Classifier\",ax=plt.gca())\n"
   ]
  },
  {
   "cell_type": "markdown",
   "id": "cee33997",
   "metadata": {},
   "source": [
    "We will choose to use the model that has the higher AUC because the higher the AUC, the better the model is at identifying positive or negative cases. In our case, we can choose the Ridge Classifier"
   ]
  },
  {
   "cell_type": "markdown",
   "id": "af188497",
   "metadata": {},
   "source": [
    "## Conclusion"
   ]
  },
  {
   "cell_type": "markdown",
   "id": "e7812eec",
   "metadata": {},
   "source": [
    "In our case, to determine whether the pima indians will develop diabetes in the next 5 years, we should choose the ridge classifer as it is more accurate than the KNN classifier."
   ]
  }
 ],
 "metadata": {
  "kernelspec": {
   "display_name": "Python 3 (ipykernel)",
   "language": "python",
   "name": "python3"
  },
  "language_info": {
   "codemirror_mode": {
    "name": "ipython",
    "version": 3
   },
   "file_extension": ".py",
   "mimetype": "text/x-python",
   "name": "python",
   "nbconvert_exporter": "python",
   "pygments_lexer": "ipython3",
   "version": "3.9.7"
  }
 },
 "nbformat": 4,
 "nbformat_minor": 5
}
